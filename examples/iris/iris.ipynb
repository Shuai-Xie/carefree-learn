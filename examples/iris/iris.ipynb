{
 "cells": [
  {
   "cell_type": "markdown",
   "metadata": {},
   "source": [
    "## Iris\n",
    "\n",
    "Here are some of the information provided by the official website:\n",
    "\n",
    "```text\n",
    "This is perhaps the best known database to be found in the pattern recognition literature.\n",
    "The data set contains 3 classes of 50 instances each, where each class refers to a type of iris plant.\n",
    "Predicted attribute: class of iris plant.\n",
    "```\n",
    "\n",
    "And here's the pandas-view of the raw data:\n",
    "\n",
    "```text\n",
    "      f0   f1   f2   f3           label\n",
    "0    5.1  3.5  1.4  0.2     Iris-setosa\n",
    "1    4.9  3.0  1.4  0.2     Iris-setosa\n",
    "2    4.7  3.2  1.3  0.2     Iris-setosa\n",
    "3    4.6  3.1  1.5  0.2     Iris-setosa\n",
    "4    5.0  3.6  1.4  0.2     Iris-setosa\n",
    "..   ...  ...  ...  ...             ...\n",
    "145  6.7  3.0  5.2  2.3  Iris-virginica\n",
    "146  6.3  2.5  5.0  1.9  Iris-virginica\n",
    "147  6.5  3.0  5.2  2.0  Iris-virginica\n",
    "148  6.2  3.4  5.4  2.3  Iris-virginica\n",
    "149  5.9  3.0  5.1  1.8  Iris-virginica\n",
    "\n",
    "[150 rows x 5 columns]\n",
    "```\n",
    "\n",
    "> We didn't use pandas in our code, but it is convenient to visualize some data with it though 🤣\n",
    ">\n",
    "> You can download the raw data (`iris.data`) with [this link](https://archive.ics.uci.edu/ml/machine-learning-databases/iris/iris.data)."
   ]
  },
  {
   "cell_type": "code",
   "execution_count": null,
   "metadata": {},
   "outputs": [],
   "source": [
    "# preparations\n",
    "\n",
    "import os\n",
    "import torch\n",
    "import pickle\n",
    "import cflearn\n",
    "import numpy as np\n",
    "\n",
    "np.random.seed(142857)\n",
    "torch.manual_seed(142857)"
   ]
  },
  {
   "cell_type": "markdown",
   "metadata": {},
   "source": [
    "### Basic Usages\n",
    "\n",
    "Traditionally, we need to process the raw data before we feed them into our machine learning models (e.g. encode the label column, which is a string column, into an ordinal column). In carefree-learn, however, we can train neural networks directly on files without worrying about the rest:"
   ]
  },
  {
   "cell_type": "code",
   "execution_count": null,
   "metadata": {},
   "outputs": [],
   "source": [
    "m = cflearn.make().fit(\"iris.data\")"
   ]
  },
  {
   "cell_type": "markdown",
   "metadata": {},
   "source": [
    "What's going under the hood is that carefree-learn will try to parse the `iris.data` automatically (with the help of [carefree-data](https://github.com/carefree0910/carefree-data)), split the data into training set and validation set, with which we'll train a fully connected neural network (fcnn).\n",
    "\n",
    "We can further inspect the processed data if we want to know how carefree-learn actually parsed the input data:"
   ]
  },
  {
   "cell_type": "code",
   "execution_count": 3,
   "metadata": {},
   "outputs": [
    {
     "name": "stdout",
     "output_type": "stream",
     "text": [
      "['4.6', '3.6', '1.0', '0.2']\n",
      "['Iris-setosa']\n",
      "[-1.5065205  1.2634597 -1.5687355 -1.3129768]\n",
      "[0]\n"
     ]
    }
   ],
   "source": [
    "print(m.tr_data.raw.x[0])\n",
    "print(m.tr_data.raw.y[0])\n",
    "print(m.tr_data.processed.x[0])\n",
    "print(m.tr_data.processed.y[0])"
   ]
  },
  {
   "cell_type": "markdown",
   "metadata": {},
   "source": [
    "It shows that the raw data is carefully normalized into numerical data that neural networks can accept. You may also notice that the first elements are not identical with the first line of the raw data, this is caused by the auto-shuffle mechanism introduced in [carefree-data](https://github.com/carefree0910/carefree-data).\n",
    "\n",
    "What's more, by saying *normalized*, it means that the input features will be automatically normalized to `mean=0.0` and `std=1.0`:"
   ]
  },
  {
   "cell_type": "code",
   "execution_count": 4,
   "metadata": {
    "scrolled": false
   },
   "outputs": [
    {
     "name": "stdout",
     "output_type": "stream",
     "text": [
      "[ 3.1739475e-08 -3.7471455e-07 -1.9907951e-07 -8.0267590e-08]\n",
      "[0.99999976 0.9999997  1.0000002  0.9999999 ]\n"
     ]
    }
   ],
   "source": [
    "tr_x = m.tr_data.processed.x\n",
    "cv_x = m.cv_data.processed.x\n",
    "stacked = np.vstack([tr_x, cv_x])\n",
    "print(stacked.mean(0))\n",
    "print(stacked.std(0))"
   ]
  },
  {
   "cell_type": "markdown",
   "metadata": {},
   "source": [
    "> The results shown above means we first normalized the data before we actually split it into train & validation set.\n",
    "\n",
    "After training on files, carefree-learn can predict & evaluate on files directly as well. We'll handle the data parsing and normalization for you automatically:"
   ]
  },
  {
   "cell_type": "code",
   "execution_count": 5,
   "metadata": {},
   "outputs": [
    {
     "name": "stdout",
     "output_type": "stream",
     "text": [
      "~~~  [ info ] Results\n",
      "================================================================================================================================\n",
      "|        metrics         |                       acc                        |                       auc                        |\n",
      "--------------------------------------------------------------------------------------------------------------------------------\n",
      "|                        |      mean      |      std       |     score      |      mean      |      std       |     score      |\n",
      "--------------------------------------------------------------------------------------------------------------------------------\n",
      "|          fcnn          |    0.926667    |    0.000000    |    0.926667    |    0.994800    |    0.000000    |    0.994800    |\n",
      "================================================================================================================================\n",
      "\n"
     ]
    },
    {
     "data": {
      "text/plain": [
       "<cftool.ml.utils.Comparer at 0x1970c723550>"
      ]
     },
     "execution_count": 5,
     "metadata": {},
     "output_type": "execute_result"
    }
   ],
   "source": [
    "# `contains_labels` is set to True because `iris.data` itself contains labels\n",
    "predictions = m.predict(\"iris.data\", contains_labels=True)\n",
    "# evaluations could be achieved easily with cflearn.evaluate\n",
    "cflearn.evaluate(\"iris.data\", pipelines=m)"
   ]
  },
  {
   "cell_type": "markdown",
   "metadata": {},
   "source": [
    "### Benchmarking\n",
    "\n",
    "As we know, neural networks are trained with **_stochastic_** gradient descent (and its variants), which will introduce some randomness to the final result, even if we are training on the same dataset. In this case, we need to repeat the same task several times in order to obtain the bias & variance of our neural networks.\n",
    "\n",
    "Fortunately, carefree-learn introduced [`repeat_with`](https://carefree0910.me/carefree-learn-doc/docs/user-guides/distributed#repeat_with) API, which can achieve this goal easily with only a few lines of code:"
   ]
  },
  {
   "cell_type": "code",
   "execution_count": null,
   "metadata": {},
   "outputs": [],
   "source": [
    "# With num_repeat=3 specified, we'll train 3 models on `iris.data`.\n",
    "result = cflearn.repeat_with(\"iris.data\", num_repeat=3)"
   ]
  },
  {
   "cell_type": "code",
   "execution_count": 7,
   "metadata": {},
   "outputs": [
    {
     "name": "stdout",
     "output_type": "stream",
     "text": [
      "~~~  [ info ] Results\n",
      "================================================================================================================================\n",
      "|        metrics         |                       acc                        |                       auc                        |\n",
      "--------------------------------------------------------------------------------------------------------------------------------\n",
      "|                        |      mean      |      std       |     score      |      mean      |      std       |     score      |\n",
      "--------------------------------------------------------------------------------------------------------------------------------\n",
      "|          fcnn          |    0.902222    |    0.019116    |    0.883106    |    0.985778    |    0.004722    |    0.981055    |\n",
      "================================================================================================================================\n",
      "\n"
     ]
    },
    {
     "data": {
      "text/plain": [
       "<cftool.ml.utils.Comparer at 0x1973a023668>"
      ]
     },
     "execution_count": 7,
     "metadata": {},
     "output_type": "execute_result"
    }
   ],
   "source": [
    "cflearn.evaluate(\"iris.data\", pipelines=result.pipelines)"
   ]
  },
  {
   "cell_type": "markdown",
   "metadata": {},
   "source": [
    "We can also compare the performances across different models:"
   ]
  },
  {
   "cell_type": "code",
   "execution_count": null,
   "metadata": {},
   "outputs": [],
   "source": [
    "# With models=[\"linear\", \"fcnn\"], we'll train both linear models and fcnn models.\n",
    "models = [\"linear\", \"fcnn\"]\n",
    "result = cflearn.repeat_with(\"iris.data\", models=models, num_repeat=3)"
   ]
  },
  {
   "cell_type": "code",
   "execution_count": 9,
   "metadata": {},
   "outputs": [
    {
     "name": "stdout",
     "output_type": "stream",
     "text": [
      "~~~  [ info ] Results\n",
      "================================================================================================================================\n",
      "|        metrics         |                       acc                        |                       auc                        |\n",
      "--------------------------------------------------------------------------------------------------------------------------------\n",
      "|                        |      mean      |      std       |     score      |      mean      |      std       |     score      |\n",
      "--------------------------------------------------------------------------------------------------------------------------------\n",
      "|          fcnn          | -- 0.915556 -- | -- 0.027933 -- | -- 0.887623 -- | -- 0.985467 -- | -- 0.004121 -- | -- 0.981345 -- |\n",
      "--------------------------------------------------------------------------------------------------------------------------------\n",
      "|         linear         |    0.620000    |    0.176970    |    0.443030    |    0.733778    |    0.148427    |    0.585351    |\n",
      "================================================================================================================================\n",
      "\n"
     ]
    },
    {
     "data": {
      "text/plain": [
       "<cftool.ml.utils.Comparer at 0x197116c3278>"
      ]
     },
     "execution_count": 9,
     "metadata": {},
     "output_type": "execute_result"
    }
   ],
   "source": [
    "cflearn.evaluate(\"iris.data\", pipelines=result.pipelines)"
   ]
  },
  {
   "cell_type": "markdown",
   "metadata": {},
   "source": [
    "It is worth mentioning that carefree-learn supports [distributed training](https://carefree0910.me/carefree-learn-doc/docs/user-guides/distributed#distributed-training), which means when we need to perform large scale benchmarking (e.g. train 100 models), we could accelerate the process through multiprocessing:\n",
    "\n",
    "> In carefree-learn, distributed training doesn't mean training your model on multiple GPUs or multiple machines. Instead, distributed training in carefree-learn means training multiple models at the same time. Please refer to our [documentation](https://carefree0910.me/carefree-learn-doc/docs/user-guides/distributed#distributed-training) for more details."
   ]
  },
  {
   "cell_type": "code",
   "execution_count": null,
   "metadata": {},
   "outputs": [],
   "source": [
    "# With num_jobs=2, we will launch 2 processes to run the tasks in a distributed way.\n",
    "result = cflearn.repeat_with(\"iris.data\", num_repeat=10, num_jobs=2)"
   ]
  },
  {
   "cell_type": "markdown",
   "metadata": {},
   "source": [
    "On iris dataset, however, launching distributed training will actually hurt the speed because iris dataset only contains 150 samples, so the relative overhead brought by distributed training will be too large. Please refer the **CAUTION** section of our [documentation](https://carefree0910.me/carefree-learn-doc/docs/user-guides/distributed#benchmarking) for more details.\n",
    "\n",
    "### Advanced Benchmarking\n",
    "\n",
    "But this is not enough, because we want to know whether other models (e.g. scikit-learn models) could achieve a better performance than carefree-learn models. In this case, we can perform an advanced benchmarking with the [Experiment](https://carefree0910.me/carefree-learn-doc/docs/user-guides/distributed#experiment) helper class."
   ]
  },
  {
   "cell_type": "code",
   "execution_count": null,
   "metadata": {},
   "outputs": [],
   "source": [
    "experiment = cflearn.Experiment()\n",
    "tr_x, tr_y = m.tr_data.processed.xy\n",
    "cv_x, cv_y = m.cv_data.processed.xy\n",
    "data_folder = experiment.dump_data_bundle(tr_x, tr_y, cv_x, cv_y)\n",
    "\n",
    "# Add carefree-learn tasks\n",
    "for model in [\"linear\", \"fcnn\"]:\n",
    "    experiment.add_task(model=model, data_folder=data_folder)\n",
    "# Add scikit-learn tasks\n",
    "run_command = f\"python run_sklearn.py\"\n",
    "common_kwargs = {\"run_command\": run_command, \"data_folder\": data_folder}\n",
    "experiment.add_task(model=\"decision_tree\", **common_kwargs)\n",
    "experiment.add_task(model=\"random_forest\", **common_kwargs)"
   ]
  },
  {
   "cell_type": "markdown",
   "metadata": {},
   "source": [
    "Notice that we specified `run_command=\"python run_sklearn.py\"` for scikit-learn tasks, which means [Experiment](https://carefree0910.me/carefree-learn-doc/docs/user-guides/distributed#experiment) will try to execute this command in the current working directory for training scikit-learn models. The good news is that we do not need to speciy any command line arguments, because [Experiment](https://carefree0910.me/carefree-learn-doc/docs/user-guides/distributed#experiment) will handle those for us.\n",
    "\n",
    "Here is basically what a `run_sklearn.py` should look like ([source code](run_sklearn.py)):\n",
    "\n",
    "```python\n",
    "import os\n",
    "import pickle\n",
    "\n",
    "from sklearn.tree import DecisionTreeClassifier\n",
    "from sklearn.ensemble import RandomForestClassifier\n",
    "from cflearn.dist.runs._utils import get_info\n",
    "\n",
    "if __name__ == \"__main__\":\n",
    "    info = get_info()\n",
    "    kwargs = info.kwargs\n",
    "    # data\n",
    "    data_list = info.data_list\n",
    "    x, y = data_list[:2]\n",
    "    # model\n",
    "    model = kwargs[\"model\"]\n",
    "    if model == \"decision_tree\":\n",
    "        base = DecisionTreeClassifier\n",
    "    elif model == \"random_forest\":\n",
    "        base = RandomForestClassifier\n",
    "    else:\n",
    "        raise NotImplementedError\n",
    "    sk_model = base()\n",
    "    # train & save\n",
    "    sk_model.fit(x, y.ravel())\n",
    "    with open(os.path.join(info.workplace, \"sk_model.pkl\"), \"wb\") as f:\n",
    "        pickle.dump(sk_model, f)\n",
    "```\n",
    "\n",
    "With `run_sklearn.py` defined, we could run those tasks with one line of code:"
   ]
  },
  {
   "cell_type": "code",
   "execution_count": null,
   "metadata": {},
   "outputs": [],
   "source": [
    "results = experiment.run_tasks()"
   ]
  },
  {
   "cell_type": "markdown",
   "metadata": {},
   "source": [
    "After finished running, we should be able to see the following file structure in the current working directory:\n",
    "\n",
    "```text\n",
    "|--- __experiment__\n",
    "   |--- __data__\n",
    "      |-- x.npy\n",
    "      |-- y.npy\n",
    "      |-- x_cv.npy\n",
    "      |-- y_cv.npy\n",
    "   |--- fcnn/0\n",
    "      |-- _logs\n",
    "      |-- __meta__.json\n",
    "      |-- cflearn^_^fcnn^_^0000.zip\n",
    "   |--- linear/0\n",
    "      |-- ...\n",
    "   |--- decision_tree/0\n",
    "      |-- __meta__.json\n",
    "      |-- sk_model.pkl\n",
    "   |--- random_forest/0\n",
    "      |-- ...\n",
    "```\n",
    "\n",
    "As we expected, carefree-learn models are saved into zip files, while scikit-learn models are saved into `sk_model.pkl` files. Since these models are not yet loaded, we should manually load them into our environment:"
   ]
  },
  {
   "cell_type": "code",
   "execution_count": 13,
   "metadata": {},
   "outputs": [],
   "source": [
    "pipelines = {}\n",
    "sk_patterns = {}\n",
    "for workplace, workplace_key in zip(results.workplaces, results.workplace_keys):\n",
    "    model = workplace_key[0]\n",
    "    if model not in [\"decision_tree\", \"random_forest\"]:\n",
    "        pipelines[model] = cflearn.task_loader(workplace)\n",
    "    else:\n",
    "        model_file = os.path.join(workplace, \"sk_model.pkl\")\n",
    "        with open(model_file, \"rb\") as f:\n",
    "            sk_model = pickle.load(f)\n",
    "            # In `carefree-learn`, we treat labels as column vectors.\n",
    "            # So we need to reshape the outputs from the scikit-learn models.\n",
    "            sk_predict = lambda x: sk_model.predict(x).reshape([-1, 1])\n",
    "            sk_predict_prob = lambda x: sk_model.predict_proba(x)\n",
    "            sk_pattern = cflearn.ModelPattern(\n",
    "                predict_method=sk_predict,\n",
    "                predict_prob_method=sk_predict_prob,\n",
    "            )\n",
    "            sk_patterns[model] = sk_pattern"
   ]
  },
  {
   "cell_type": "markdown",
   "metadata": {},
   "source": [
    "After which we can finally perform benchmarking on these models:"
   ]
  },
  {
   "cell_type": "code",
   "execution_count": 14,
   "metadata": {},
   "outputs": [
    {
     "name": "stderr",
     "output_type": "stream",
     "text": [
      "~~~  [ info ] Results\n",
      "================================================================================================================================\n",
      "|        metrics         |                       acc                        |                       auc                        |\n",
      "--------------------------------------------------------------------------------------------------------------------------------\n",
      "|                        |      mean      |      std       |     score      |      mean      |      std       |     score      |\n",
      "--------------------------------------------------------------------------------------------------------------------------------\n",
      "|     decision_tree      | -- 0.960000 -- | -- 0.000000 -- | -- 0.960000 -- | -- 0.998667 -- | -- 0.000000 -- | -- 0.998667 -- |\n",
      "--------------------------------------------------------------------------------------------------------------------------------\n",
      "|          fcnn          | -- 0.960000 -- | -- 0.000000 -- | -- 0.960000 -- |    0.994133    | -- 0.000000 -- |    0.994133    |\n",
      "--------------------------------------------------------------------------------------------------------------------------------\n",
      "|         linear         |    0.466667    | -- 0.000000 -- |    0.466667    |    0.725600    | -- 0.000000 -- |    0.725600    |\n",
      "--------------------------------------------------------------------------------------------------------------------------------\n",
      "|     random_forest      | -- 0.960000 -- | -- 0.000000 -- | -- 0.960000 -- | -- 0.998667 -- | -- 0.000000 -- | -- 0.998667 -- |\n",
      "================================================================================================================================\n",
      "\n"
     ]
    },
    {
     "data": {
      "text/plain": [
       "<cftool.ml.utils.Comparer at 0x1972d8d1780>"
      ]
     },
     "execution_count": 14,
     "metadata": {},
     "output_type": "execute_result"
    }
   ],
   "source": [
    "cflearn.evaluate(cv_x, cv_y, pipelines=pipelines, other_patterns=sk_patterns)"
   ]
  },
  {
   "cell_type": "markdown",
   "metadata": {},
   "source": [
    "Seems that scikit-learn models are better than carefree-learn models! This is not surprising because neural networks often require more data than traditional machine learning algorithms. However, we can boost carefree-learn models with AutoML, as shown in the next section.\n",
    "\n",
    "### AutoML on Iris\n",
    "\n",
    "As mentioned in the introduction, carefree-learn is actually a minimal Automatic Machine Learning (AutoML) solution for tabular datasets. Up till now we haven't mentioned any AutoML stuffs yet, so in this section we'll illustrate how to perform AutoML on Iris dataset, as well as how to pack the AutoML results into production.\n",
    "\n",
    "Since carefree-learn has provided the [cflearn.Auto](https://carefree0910.me/carefree-learn-doc/docs/user-guides/auto-ml) API for out-of-the-box usages, AutoML in carefree-learn could be achieved in two lines of code:"
   ]
  },
  {
   "cell_type": "code",
   "execution_count": null,
   "metadata": {
    "scrolled": true
   },
   "outputs": [],
   "source": [
    "auto = cflearn.Auto(\"clf\", models=\"fcnn\")\n",
    "auto.fit(tr_x, tr_y, cv_x, cv_y)"
   ]
  },
  {
   "cell_type": "markdown",
   "metadata": {},
   "source": [
    "We can make predictions directly with `auto.predict`:"
   ]
  },
  {
   "cell_type": "code",
   "execution_count": 16,
   "metadata": {},
   "outputs": [
    {
     "name": "stdout",
     "output_type": "stream",
     "text": [
      "accuracy: 0.9866666666666667\n"
     ]
    }
   ],
   "source": [
    "predictions = auto.predict(cv_x)\n",
    "print(\"accuracy:\", (predictions == cv_y).mean())"
   ]
  },
  {
   "cell_type": "markdown",
   "metadata": {},
   "source": [
    "And of course, we can compare it with other models:"
   ]
  },
  {
   "cell_type": "code",
   "execution_count": 17,
   "metadata": {},
   "outputs": [
    {
     "name": "stdout",
     "output_type": "stream",
     "text": [
      "~~~  [ info ] Results\n",
      "================================================================================================================================\n",
      "|        metrics         |                       acc                        |                       auc                        |\n",
      "--------------------------------------------------------------------------------------------------------------------------------\n",
      "|                        |      mean      |      std       |     score      |      mean      |      std       |     score      |\n",
      "--------------------------------------------------------------------------------------------------------------------------------\n",
      "|          auto          | -- 0.986667 -- | -- 0.000000 -- | -- 0.986667 -- | -- 0.998933 -- | -- 0.000000 -- | -- 0.998933 -- |\n",
      "--------------------------------------------------------------------------------------------------------------------------------\n",
      "|     decision_tree      |    0.960000    | -- 0.000000 -- |    0.960000    |    0.998667    | -- 0.000000 -- |    0.998667    |\n",
      "--------------------------------------------------------------------------------------------------------------------------------\n",
      "|          fcnn          |    0.960000    | -- 0.000000 -- |    0.960000    |    0.994133    | -- 0.000000 -- |    0.994133    |\n",
      "--------------------------------------------------------------------------------------------------------------------------------\n",
      "|         linear         |    0.466667    | -- 0.000000 -- |    0.466667    |    0.725600    | -- 0.000000 -- |    0.725600    |\n",
      "--------------------------------------------------------------------------------------------------------------------------------\n",
      "|     random_forest      |    0.960000    | -- 0.000000 -- |    0.960000    |    0.998667    | -- 0.000000 -- |    0.998667    |\n",
      "================================================================================================================================\n",
      "\n"
     ]
    },
    {
     "data": {
      "text/plain": [
       "<cftool.ml.utils.Comparer at 0x19781994710>"
      ]
     },
     "execution_count": 17,
     "metadata": {},
     "output_type": "execute_result"
    }
   ],
   "source": [
    "all_patterns = sk_patterns.copy()\n",
    "all_patterns[\"auto\"] = auto.pattern\n",
    "cflearn.evaluate(cv_x, cv_y, pipelines=pipelines, other_patterns=all_patterns)"
   ]
  },
  {
   "cell_type": "markdown",
   "metadata": {},
   "source": [
    "Bravo! Our AutoML model beats the scikit-learn models 🥳\n",
    "\n",
    "If we are satisfied with the results, we can pack the models up into a zip file"
   ]
  },
  {
   "cell_type": "code",
   "execution_count": null,
   "metadata": {},
   "outputs": [],
   "source": [
    "auto.pack(\"pack\")"
   ]
  },
  {
   "cell_type": "markdown",
   "metadata": {},
   "source": [
    "which could be used on our production environments / machines easily:"
   ]
  },
  {
   "cell_type": "code",
   "execution_count": null,
   "metadata": {},
   "outputs": [],
   "source": [
    "unpacked = cflearn.Auto.unpack(\"pack\")\n",
    "predictions = unpacked.pattern.predict(cv_x)"
   ]
  },
  {
   "cell_type": "markdown",
   "metadata": {},
   "source": [
    "### Conclusions\n",
    "\n",
    "Contained in this notebook is just a subset of the features that carefree-learn offers, but we've already walked through many basic & common steps we'll encounter in real life machine learning tasks."
   ]
  }
 ],
 "metadata": {
  "kernelspec": {
   "display_name": "Python 3",
   "language": "python",
   "name": "python3"
  },
  "language_info": {
   "codemirror_mode": {
    "name": "ipython",
    "version": 3
   },
   "file_extension": ".py",
   "mimetype": "text/x-python",
   "name": "python",
   "nbconvert_exporter": "python",
   "pygments_lexer": "ipython3",
   "version": "3.6.12"
  }
 },
 "nbformat": 4,
 "nbformat_minor": 2
}
